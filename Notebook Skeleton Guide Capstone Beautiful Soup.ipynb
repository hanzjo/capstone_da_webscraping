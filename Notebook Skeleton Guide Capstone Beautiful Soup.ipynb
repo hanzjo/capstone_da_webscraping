{
 "cells": [
  {
   "cell_type": "markdown",
   "metadata": {},
   "source": [
    "# Capstone Webscrapping using BeautifulSoup\n",
    "\n",
    "This notebook contains guidances & tasks on the data processing for the application\n",
    "\n",
    "## background\n",
    "\n",
    "(Please insert the background here )\n",
    "\n",
    "## Requesting the Data and Creating a BeautifulSoup\n",
    "\n",
    "Let's begin with requesting the web from the site with `get` method."
   ]
  },
  {
   "cell_type": "code",
   "execution_count": 1,
   "metadata": {
    "ExecuteTime": {
     "end_time": "2020-01-13T05:12:23.275508Z",
     "start_time": "2020-01-13T05:12:20.009898Z"
    }
   },
   "outputs": [],
   "source": [
    "import requests\n",
    "\n",
    "url_get = requests.get('https://www.coingecko.com/en/coins/ethereum/historical_data/usd?start_date=2020-01-01&end_date=2021-06-30#panel')"
   ]
  },
  {
   "cell_type": "markdown",
   "metadata": {},
   "source": [
    "To visualize what exactly you get from the `request.get`, we can use .content to see what we exactly get, in here i slice it so it won't make our screen full of the html we get from the page. You can delete the slicing if you want to see what we fully get."
   ]
  },
  {
   "cell_type": "code",
   "execution_count": 2,
   "metadata": {
    "ExecuteTime": {
     "end_time": "2020-01-13T05:12:23.290648Z",
     "start_time": "2020-01-13T05:12:23.277650Z"
    },
    "scrolled": true
   },
   "outputs": [
    {
     "data": {
      "text/plain": [
       "b'!DOCTYPE html>\\n<html lang=\"en\">\\n<head>\\n<script src=\"/cdn-cgi/apps/head/gYtXOyllgyP3-Z2iKTP8rRWGBm4.js\"></script><script async defer src=\"https://www.googleoptimize.com/optimize.js?id=GTM-W3CD992\"></script>\\n<meta charset=\"utf-8\">\\n<meta http-equiv=\"X-UA-Compatible\" content=\"IE=edge\">\\n<meta name=\"viewport\" content=\"width=device-width, initial-scale=1.0\">\\n<link rel=\"shortcut icon\" href=\"/favicon.ico\">\\n<link type=\"application/opensearchdescription+xml\" rel=\"search\" href=\"/OpensearchDescription.xml\" '"
      ]
     },
     "execution_count": 2,
     "metadata": {},
     "output_type": "execute_result"
    }
   ],
   "source": [
    "url_get.content[1:500]"
   ]
  },
  {
   "cell_type": "markdown",
   "metadata": {},
   "source": [
    "As we can see we get a very unstructured and complex html, which actually contains the codes needed to show the webpages on your web browser. But we as human still confused what and where we can use that piece of code, so here where we use the beautifulsoup. Beautiful soup class will result a beautifulsoup object. Beautiful Soup transforms a complex HTML document into a complex tree of Python objects. \n",
    "\n",
    "Let's make Beautiful soup object and feel free to explore the object here."
   ]
  },
  {
   "cell_type": "code",
   "execution_count": 3,
   "metadata": {
    "ExecuteTime": {
     "end_time": "2020-01-13T05:12:23.808122Z",
     "start_time": "2020-01-13T05:12:23.292610Z"
    }
   },
   "outputs": [],
   "source": [
    "from bs4 import BeautifulSoup \n",
    "\n",
    "soup = BeautifulSoup(url_get.content,\"html.parser\")"
   ]
  },
  {
   "cell_type": "code",
   "execution_count": 4,
   "metadata": {
    "scrolled": true
   },
   "outputs": [
    {
     "name": "stdout",
     "output_type": "stream",
     "text": [
      "<!DOCTYPE html>\n",
      "<html lang=\"en\">\n",
      " <head>\n",
      "  <script src=\"/cdn-cgi/apps/head/gYtXOyllgyP3-Z2iKTP8rRWGBm4.js\">\n",
      "  </script>\n",
      "  <script async=\"\" defer=\"\" src=\"https://www.googleoptimize.com/optimize.js?id=GTM-W3CD992\">\n",
      "  </script>\n",
      "  <meta charset=\"utf-8\"/>\n",
      "  <meta content=\"IE=edge\" http-equiv=\"X-UA-Compatible\"/>\n",
      "  <meta content=\"width=device-width, initial-scale=1.0\" name=\"viewport\"/>\n",
      "  <link href=\"/favicon.ico\" rel=\"shortcut icon\"/>\n",
      "  <link href=\"/OpensearchDescription.xml\" rel=\"search\" type=\"applica\n"
     ]
    }
   ],
   "source": [
    "print(soup.prettify()[:500])"
   ]
  },
  {
   "cell_type": "markdown",
   "metadata": {},
   "source": [
    "## Finding the right key to scrap the data & Extracting the right information"
   ]
  },
  {
   "cell_type": "markdown",
   "metadata": {},
   "source": [
    "Find the key and put the key into the `.find()` Put all the exploring the right key at this cell. (please change this markdown with your explanation)"
   ]
  },
  {
   "cell_type": "code",
   "execution_count": 5,
   "metadata": {
    "ExecuteTime": {
     "end_time": "2020-01-13T05:12:23.878904Z",
     "start_time": "2020-01-13T05:12:23.854974Z"
    }
   },
   "outputs": [
    {
     "name": "stdout",
     "output_type": "stream",
     "text": [
      "tbody>\n",
      " <tr>\n",
      "  <th class=\"font-semibold text-center\" scope=\"row\">\n",
      "   2022-10-02\n",
      "  </th>\n",
      "  <td class=\"text-center\">\n",
      "   $158,410,068,981\n",
      "  </td>\n",
      "  <td class=\"text-center\">\n",
      "   $5,052,407,841\n",
      "  </td>\n",
      "  <td class=\"text-center\">\n",
      "   $1,311.26\n",
      "  </td>\n",
      "  <td class=\"text-center\">\n",
      "   N/A\n",
      "  </td>\n",
      " </tr>\n",
      " <tr>\n",
      "  <th class=\"font-semibold text-center\" scope=\"row\">\n",
      "   2022-10-01\n",
      "  </th>\n",
      "  <td class=\"text-center\">\n",
      "   $160,462,955,554\n",
      "  </td>\n",
      "  <td class=\"text-center\">\n",
      "   $11,849,125,784\n",
      "  </td>\n",
      "  <td class=\"tex\n"
     ]
    }
   ],
   "source": [
    "table = soup.find('tbody')\n",
    "print(table.prettify()[1:500])"
   ]
  },
  {
   "cell_type": "code",
   "execution_count": 6,
   "metadata": {},
   "outputs": [
    {
     "data": {
      "text/plain": [
       "[<th class=\"font-semibold text-center\" scope=\"row\">2022-10-02</th>,\n",
       " <th class=\"font-semibold text-center\" scope=\"row\">2022-10-01</th>,\n",
       " <th class=\"font-semibold text-center\" scope=\"row\">2022-09-30</th>,\n",
       " <th class=\"font-semibold text-center\" scope=\"row\">2022-09-29</th>,\n",
       " <th class=\"font-semibold text-center\" scope=\"row\">2022-09-28</th>,\n",
       " <th class=\"font-semibold text-center\" scope=\"row\">2022-09-27</th>,\n",
       " <th class=\"font-semibold text-center\" scope=\"row\">2022-09-26</th>,\n",
       " <th class=\"font-semibold text-center\" scope=\"row\">2022-09-25</th>,\n",
       " <th class=\"font-semibold text-center\" scope=\"row\">2022-09-24</th>,\n",
       " <th class=\"font-semibold text-center\" scope=\"row\">2022-09-23</th>]"
      ]
     },
     "execution_count": 6,
     "metadata": {},
     "output_type": "execute_result"
    }
   ],
   "source": [
    "table.find_all('th', attrs={'class':'font-semibold text-center'})[:10]"
   ]
  },
  {
   "cell_type": "code",
   "execution_count": 7,
   "metadata": {},
   "outputs": [
    {
     "data": {
      "text/plain": [
       "'2022-10-02'"
      ]
     },
     "execution_count": 7,
     "metadata": {},
     "output_type": "execute_result"
    }
   ],
   "source": [
    "table.find_all('th', attrs={'class':'font-semibold text-center'})[0].text"
   ]
  },
  {
   "cell_type": "markdown",
   "metadata": {},
   "source": [
    "Finding row length."
   ]
  },
  {
   "cell_type": "code",
   "execution_count": 8,
   "metadata": {},
   "outputs": [
    {
     "data": {
      "text/plain": [
       "31"
      ]
     },
     "execution_count": 8,
     "metadata": {},
     "output_type": "execute_result"
    }
   ],
   "source": [
    "row = table.find_all('th', attrs={'class':'font-semibold text-center'})\n",
    "row_length = len(row)\n",
    "row_length"
   ]
  },
  {
   "cell_type": "code",
   "execution_count": 9,
   "metadata": {},
   "outputs": [
    {
     "data": {
      "text/plain": [
       "124"
      ]
     },
     "execution_count": 9,
     "metadata": {},
     "output_type": "execute_result"
    }
   ],
   "source": [
    "row2 = table.find_all('td', attrs={'class':'text-center'})\n",
    "row_length2 = len(row2)\n",
    "row_length2"
   ]
  },
  {
   "cell_type": "markdown",
   "metadata": {},
   "source": [
    "Do the scrapping process here (please change this markdown with your explanation)"
   ]
  },
  {
   "cell_type": "code",
   "execution_count": 10,
   "metadata": {
    "ExecuteTime": {
     "end_time": "2020-01-13T05:12:24.008256Z",
     "start_time": "2020-01-13T05:12:23.980358Z"
    }
   },
   "outputs": [],
   "source": [
    "#temp = []\n",
    "\n",
    "#initiating a tuple\n",
    "\n",
    "#for i in range(0, row_length):\n",
    "\n",
    "    #scrapping process\n",
    "    #Date = table.find_all('th', attrs={'class':'font-semibold text-center'})[i].text\n",
    "    \n",
    "    #temp.append((Date))\n",
    "    \n",
    "#temp"
   ]
  },
  {
   "cell_type": "code",
   "execution_count": 11,
   "metadata": {},
   "outputs": [
    {
     "data": {
      "text/plain": [
       "[('2022-09-02', '$191,078,487,040', '$15,076,286,517', '$1,588.98', 'N/A'),\n",
       " ('2022-09-02',\n",
       "  '$191,078,487,040',\n",
       "  '$15,076,286,517',\n",
       "  '$1,588.98',\n",
       "  '$1,311.26'),\n",
       " ('2022-09-02',\n",
       "  '$191,078,487,040',\n",
       "  '$15,076,286,517',\n",
       "  '$1,588.98',\n",
       "  '$1,329.15'),\n",
       " ('2022-09-02',\n",
       "  '$191,078,487,040',\n",
       "  '$15,076,286,517',\n",
       "  '$1,588.98',\n",
       "  '$1,335.74'),\n",
       " ('2022-09-02',\n",
       "  '$191,078,487,040',\n",
       "  '$15,076,286,517',\n",
       "  '$1,588.98',\n",
       "  '$1,340.02'),\n",
       " ('2022-09-02',\n",
       "  '$191,078,487,040',\n",
       "  '$15,076,286,517',\n",
       "  '$1,588.98',\n",
       "  '$1,331.15'),\n",
       " ('2022-09-02',\n",
       "  '$191,078,487,040',\n",
       "  '$15,076,286,517',\n",
       "  '$1,588.98',\n",
       "  '$1,335.12'),\n",
       " ('2022-09-02',\n",
       "  '$191,078,487,040',\n",
       "  '$15,076,286,517',\n",
       "  '$1,588.98',\n",
       "  '$1,294.08'),\n",
       " ('2022-09-02',\n",
       "  '$191,078,487,040',\n",
       "  '$15,076,286,517',\n",
       "  '$1,588.98',\n",
       "  '$1,318.10'),\n",
       " ('2022-09-02',\n",
       "  '$191,078,487,040',\n",
       "  '$15,076,286,517',\n",
       "  '$1,588.98',\n",
       "  '$1,329.56'),\n",
       " ('2022-09-02',\n",
       "  '$191,078,487,040',\n",
       "  '$15,076,286,517',\n",
       "  '$1,588.98',\n",
       "  '$1,330.79'),\n",
       " ('2022-09-02',\n",
       "  '$191,078,487,040',\n",
       "  '$15,076,286,517',\n",
       "  '$1,588.98',\n",
       "  '$1,252.77'),\n",
       " ('2022-09-02',\n",
       "  '$191,078,487,040',\n",
       "  '$15,076,286,517',\n",
       "  '$1,588.98',\n",
       "  '$1,324.19'),\n",
       " ('2022-09-02',\n",
       "  '$191,078,487,040',\n",
       "  '$15,076,286,517',\n",
       "  '$1,588.98',\n",
       "  '$1,379.92'),\n",
       " ('2022-09-02',\n",
       "  '$191,078,487,040',\n",
       "  '$15,076,286,517',\n",
       "  '$1,588.98',\n",
       "  '$1,335.85'),\n",
       " ('2022-09-02',\n",
       "  '$191,078,487,040',\n",
       "  '$15,076,286,517',\n",
       "  '$1,588.98',\n",
       "  '$1,471.20'),\n",
       " ('2022-09-02',\n",
       "  '$191,078,487,040',\n",
       "  '$15,076,286,517',\n",
       "  '$1,588.98',\n",
       "  '$1,432.22'),\n",
       " ('2022-09-02',\n",
       "  '$191,078,487,040',\n",
       "  '$15,076,286,517',\n",
       "  '$1,588.98',\n",
       "  '$1,472.00'),\n",
       " ('2022-09-02',\n",
       "  '$191,078,487,040',\n",
       "  '$15,076,286,517',\n",
       "  '$1,588.98',\n",
       "  '$1,635.37'),\n",
       " ('2022-09-02',\n",
       "  '$191,078,487,040',\n",
       "  '$15,076,286,517',\n",
       "  '$1,588.98',\n",
       "  '$1,573.21'),\n",
       " ('2022-09-02',\n",
       "  '$191,078,487,040',\n",
       "  '$15,076,286,517',\n",
       "  '$1,588.98',\n",
       "  '$1,710.16'),\n",
       " ('2022-09-02',\n",
       "  '$191,078,487,040',\n",
       "  '$15,076,286,517',\n",
       "  '$1,588.98',\n",
       "  '$1,761.32'),\n",
       " ('2022-09-02',\n",
       "  '$191,078,487,040',\n",
       "  '$15,076,286,517',\n",
       "  '$1,588.98',\n",
       "  '$1,779.52'),\n",
       " ('2022-09-02',\n",
       "  '$191,078,487,040',\n",
       "  '$15,076,286,517',\n",
       "  '$1,588.98',\n",
       "  '$1,717.08'),\n",
       " ('2022-09-02',\n",
       "  '$191,078,487,040',\n",
       "  '$15,076,286,517',\n",
       "  '$1,588.98',\n",
       "  '$1,635.93'),\n",
       " ('2022-09-02',\n",
       "  '$191,078,487,040',\n",
       "  '$15,076,286,517',\n",
       "  '$1,588.98',\n",
       "  '$1,629.88'),\n",
       " ('2022-09-02',\n",
       "  '$191,078,487,040',\n",
       "  '$15,076,286,517',\n",
       "  '$1,588.98',\n",
       "  '$1,564.56'),\n",
       " ('2022-09-02',\n",
       "  '$191,078,487,040',\n",
       "  '$15,076,286,517',\n",
       "  '$1,588.98',\n",
       "  '$1,617.94'),\n",
       " ('2022-09-02',\n",
       "  '$191,078,487,040',\n",
       "  '$15,076,286,517',\n",
       "  '$1,588.98',\n",
       "  '$1,578.95'),\n",
       " ('2022-09-02',\n",
       "  '$191,078,487,040',\n",
       "  '$15,076,286,517',\n",
       "  '$1,588.98',\n",
       "  '$1,555.67'),\n",
       " ('2022-09-02',\n",
       "  '$191,078,487,040',\n",
       "  '$15,076,286,517',\n",
       "  '$1,588.98',\n",
       "  '$1,575.18')]"
      ]
     },
     "execution_count": 11,
     "metadata": {},
     "output_type": "execute_result"
    }
   ],
   "source": [
    "temp = []\n",
    "\n",
    "date = []\n",
    "market_cap = []\n",
    "volume = []\n",
    "open = []\n",
    "close = []\n",
    "\n",
    "# get date\n",
    "for i in range(0, row_length):\n",
    "    Date = table.find_all('th', attrs={'class':'font-semibold text-center'})[i].text\n",
    "    date.append(Date)\n",
    "    \n",
    "# get Market Cap  \n",
    "for i in range(0, row_length2,4):\n",
    "    Market_Cap = table.find_all('td', attrs={'class':'text-center'})[i].text\n",
    "    Market_Cap = Market_Cap.strip()\n",
    "    market_cap.append(Market_Cap)\n",
    "\n",
    "# get Volume\n",
    "for i in range(1, row_length2,4):\n",
    "    Volume = table.find_all('td', attrs={'class':'text-center'})[i].text\n",
    "    Volume = Volume.strip()\n",
    "    volume.append(Volume) \n",
    "\n",
    "# get Open\n",
    "for i in range(2, row_length2,4):\n",
    "    Open = table.find_all('td', attrs={'class':'text-center'})[i].text\n",
    "    Open = Open.strip()\n",
    "    open.append(Open)\n",
    "\n",
    "# get Close\n",
    "for i in range(3, row_length2,4):\n",
    "    Close = table.find_all('td', attrs={'class':'text-center'})[i].text\n",
    "    Close = Close.strip()\n",
    "    close.append(Close)\n",
    "\n",
    "#scrapping process\n",
    "    temp.append((Date,Market_Cap,Volume,Open,Close))\n",
    "temp   "
   ]
  },
  {
   "cell_type": "code",
   "execution_count": null,
   "metadata": {},
   "outputs": [],
   "source": []
  },
  {
   "cell_type": "markdown",
   "metadata": {},
   "source": [
    "## Creating data frame & Data wrangling"
   ]
  },
  {
   "cell_type": "markdown",
   "metadata": {},
   "source": [
    "Put the array into dataframe"
   ]
  },
  {
   "cell_type": "code",
   "execution_count": 12,
   "metadata": {},
   "outputs": [
    {
     "name": "stdout",
     "output_type": "stream",
     "text": [
      "tbody>\n",
      " <tr>\n",
      "  <th class=\"font-semibold text-center\" scope=\"row\">\n",
      "   2022-10-02\n",
      "  </th>\n",
      "  <td class=\"text-center\">\n",
      "   $158,410,068,981\n",
      "  </td>\n",
      "  <td class=\"text-center\">\n",
      "   $5,052,407,841\n",
      "  </td>\n",
      "  <td class=\"text-center\">\n",
      "   $1,311.26\n",
      "  </td>\n",
      "  <td class=\"text-center\">\n",
      "   N/A\n",
      "  </td>\n",
      " </tr>\n",
      " <tr>\n",
      "  <th class=\"font-semibold text-center\" scope=\"row\">\n",
      "   2022-10-01\n",
      "  </th>\n",
      "  <td class=\"text-center\">\n",
      "   $160,462,955,554\n",
      "  </td>\n",
      "  <td class=\"text-center\">\n",
      "   $11,849,125,784\n",
      "  </td>\n",
      "  <td class=\"tex\n"
     ]
    }
   ],
   "source": [
    "table2 = soup.find('div', attrs={'class':'card-block'})\n",
    "print(table.prettify()[1:500])"
   ]
  },
  {
   "cell_type": "code",
   "execution_count": 13,
   "metadata": {},
   "outputs": [
    {
     "data": {
      "text/plain": [
       "['Date', 'Market Cap', 'Volume', 'Open', 'Close']"
      ]
     },
     "execution_count": 13,
     "metadata": {},
     "output_type": "execute_result"
    }
   ],
   "source": [
    "columns = [th.text for th in table2.find('thead').find_all(\"th\")]\n",
    "columns"
   ]
  },
  {
   "cell_type": "code",
   "execution_count": 14,
   "metadata": {
    "ExecuteTime": {
     "end_time": "2020-01-13T05:12:41.517372Z",
     "start_time": "2020-01-13T05:12:29.130015Z"
    }
   },
   "outputs": [
    {
     "data": {
      "text/html": [
       "<div>\n",
       "<style scoped>\n",
       "    .dataframe tbody tr th:only-of-type {\n",
       "        vertical-align: middle;\n",
       "    }\n",
       "\n",
       "    .dataframe tbody tr th {\n",
       "        vertical-align: top;\n",
       "    }\n",
       "\n",
       "    .dataframe thead th {\n",
       "        text-align: right;\n",
       "    }\n",
       "</style>\n",
       "<table border=\"1\" class=\"dataframe\">\n",
       "  <thead>\n",
       "    <tr style=\"text-align: right;\">\n",
       "      <th></th>\n",
       "      <th>Date</th>\n",
       "      <th>Market Cap</th>\n",
       "      <th>Volume</th>\n",
       "      <th>Open</th>\n",
       "      <th>Close</th>\n",
       "    </tr>\n",
       "  </thead>\n",
       "  <tbody>\n",
       "    <tr>\n",
       "      <th>0</th>\n",
       "      <td>2022-09-02</td>\n",
       "      <td>$158,410,068,981</td>\n",
       "      <td>$5,052,407,841</td>\n",
       "      <td>$1,311.26</td>\n",
       "      <td>N/A</td>\n",
       "    </tr>\n",
       "    <tr>\n",
       "      <th>1</th>\n",
       "      <td>2022-09-02</td>\n",
       "      <td>$160,462,955,554</td>\n",
       "      <td>$11,849,125,784</td>\n",
       "      <td>$1,329.15</td>\n",
       "      <td>$1,311.26</td>\n",
       "    </tr>\n",
       "    <tr>\n",
       "      <th>2</th>\n",
       "      <td>2022-09-02</td>\n",
       "      <td>$161,267,455,734</td>\n",
       "      <td>$11,834,328,252</td>\n",
       "      <td>$1,335.74</td>\n",
       "      <td>$1,329.15</td>\n",
       "    </tr>\n",
       "    <tr>\n",
       "      <th>3</th>\n",
       "      <td>2022-09-02</td>\n",
       "      <td>$161,716,193,676</td>\n",
       "      <td>$16,571,161,476</td>\n",
       "      <td>$1,340.02</td>\n",
       "      <td>$1,335.74</td>\n",
       "    </tr>\n",
       "    <tr>\n",
       "      <th>4</th>\n",
       "      <td>2022-09-02</td>\n",
       "      <td>$160,800,122,125</td>\n",
       "      <td>$16,685,874,856</td>\n",
       "      <td>$1,331.15</td>\n",
       "      <td>$1,340.02</td>\n",
       "    </tr>\n",
       "  </tbody>\n",
       "</table>\n",
       "</div>"
      ],
      "text/plain": [
       "         Date        Market Cap           Volume       Open      Close\n",
       "0  2022-09-02  $158,410,068,981   $5,052,407,841  $1,311.26        N/A\n",
       "1  2022-09-02  $160,462,955,554  $11,849,125,784  $1,329.15  $1,311.26\n",
       "2  2022-09-02  $161,267,455,734  $11,834,328,252  $1,335.74  $1,329.15\n",
       "3  2022-09-02  $161,716,193,676  $16,571,161,476  $1,340.02  $1,335.74\n",
       "4  2022-09-02  $160,800,122,125  $16,685,874,856  $1,331.15  $1,340.02"
      ]
     },
     "execution_count": 14,
     "metadata": {},
     "output_type": "execute_result"
    }
   ],
   "source": [
    "import pandas as pd\n",
    "\n",
    "df = pd.DataFrame({\n",
    "    columns[0] : Date,\n",
    "    columns[1] : market_cap,\n",
    "    columns[2] : volume,\n",
    "    columns[3] : open,\n",
    "    columns[4] : close\n",
    "})\n",
    "df.head()"
   ]
  },
  {
   "cell_type": "code",
   "execution_count": 15,
   "metadata": {},
   "outputs": [],
   "source": [
    "def delete_dollar(x):\n",
    "    for i in x:\n",
    "        xx = i.split('$')\n",
    "        return int(xx[1].replace(',',''))\n",
    "    \n",
    "def delete_dollar_2(x):\n",
    "    for i in x:\n",
    "        if i == 'N/A':\n",
    "            return 'N/A'\n",
    "        else:\n",
    "            xx = i.split('$')\n",
    "            return float(xx[1].replace(',',''))"
   ]
  },
  {
   "cell_type": "markdown",
   "metadata": {},
   "source": [
    "Do the data cleaning here (please change this markdown with your explanation of what you do for data wrangling)"
   ]
  },
  {
   "cell_type": "code",
   "execution_count": 16,
   "metadata": {
    "ExecuteTime": {
     "end_time": "2020-01-13T05:12:59.165559Z",
     "start_time": "2020-01-13T05:12:58.910012Z"
    }
   },
   "outputs": [
    {
     "data": {
      "text/plain": [
       "Date          object\n",
       "Market Cap    object\n",
       "Volume        object\n",
       "Open          object\n",
       "Close         object\n",
       "dtype: object"
      ]
     },
     "execution_count": 16,
     "metadata": {},
     "output_type": "execute_result"
    }
   ],
   "source": [
    "df.dtypes\n"
   ]
  },
  {
   "cell_type": "code",
   "execution_count": 17,
   "metadata": {
    "scrolled": true
   },
   "outputs": [
    {
     "data": {
      "text/html": [
       "<div>\n",
       "<style scoped>\n",
       "    .dataframe tbody tr th:only-of-type {\n",
       "        vertical-align: middle;\n",
       "    }\n",
       "\n",
       "    .dataframe tbody tr th {\n",
       "        vertical-align: top;\n",
       "    }\n",
       "\n",
       "    .dataframe thead th {\n",
       "        text-align: right;\n",
       "    }\n",
       "</style>\n",
       "<table border=\"1\" class=\"dataframe\">\n",
       "  <thead>\n",
       "    <tr style=\"text-align: right;\">\n",
       "      <th></th>\n",
       "      <th>Volume</th>\n",
       "    </tr>\n",
       "    <tr>\n",
       "      <th>Date</th>\n",
       "      <th></th>\n",
       "    </tr>\n",
       "  </thead>\n",
       "  <tbody>\n",
       "    <tr>\n",
       "      <th>2022-10-02</th>\n",
       "      <td>5052407841</td>\n",
       "    </tr>\n",
       "    <tr>\n",
       "      <th>2022-10-01</th>\n",
       "      <td>11849125784</td>\n",
       "    </tr>\n",
       "    <tr>\n",
       "      <th>2022-09-30</th>\n",
       "      <td>11834328252</td>\n",
       "    </tr>\n",
       "    <tr>\n",
       "      <th>2022-09-29</th>\n",
       "      <td>16571161476</td>\n",
       "    </tr>\n",
       "    <tr>\n",
       "      <th>2022-09-28</th>\n",
       "      <td>16685874856</td>\n",
       "    </tr>\n",
       "    <tr>\n",
       "      <th>2022-09-27</th>\n",
       "      <td>15270197376</td>\n",
       "    </tr>\n",
       "    <tr>\n",
       "      <th>2022-09-26</th>\n",
       "      <td>10552647870</td>\n",
       "    </tr>\n",
       "    <tr>\n",
       "      <th>2022-09-25</th>\n",
       "      <td>11251326609</td>\n",
       "    </tr>\n",
       "    <tr>\n",
       "      <th>2022-09-24</th>\n",
       "      <td>17599766731</td>\n",
       "    </tr>\n",
       "    <tr>\n",
       "      <th>2022-09-23</th>\n",
       "      <td>17517188721</td>\n",
       "    </tr>\n",
       "    <tr>\n",
       "      <th>2022-09-22</th>\n",
       "      <td>18732743242</td>\n",
       "    </tr>\n",
       "    <tr>\n",
       "      <th>2022-09-21</th>\n",
       "      <td>13605986462</td>\n",
       "    </tr>\n",
       "    <tr>\n",
       "      <th>2022-09-20</th>\n",
       "      <td>17757533838</td>\n",
       "    </tr>\n",
       "    <tr>\n",
       "      <th>2022-09-19</th>\n",
       "      <td>14696599277</td>\n",
       "    </tr>\n",
       "    <tr>\n",
       "      <th>2022-09-18</th>\n",
       "      <td>10309763882</td>\n",
       "    </tr>\n",
       "    <tr>\n",
       "      <th>2022-09-17</th>\n",
       "      <td>17892819035</td>\n",
       "    </tr>\n",
       "    <tr>\n",
       "      <th>2022-09-16</th>\n",
       "      <td>24787864367</td>\n",
       "    </tr>\n",
       "    <tr>\n",
       "      <th>2022-09-15</th>\n",
       "      <td>17198033718</td>\n",
       "    </tr>\n",
       "    <tr>\n",
       "      <th>2022-09-14</th>\n",
       "      <td>22286700927</td>\n",
       "    </tr>\n",
       "    <tr>\n",
       "      <th>2022-09-13</th>\n",
       "      <td>16770566236</td>\n",
       "    </tr>\n",
       "    <tr>\n",
       "      <th>2022-09-12</th>\n",
       "      <td>11692754175</td>\n",
       "    </tr>\n",
       "    <tr>\n",
       "      <th>2022-09-11</th>\n",
       "      <td>12521808521</td>\n",
       "    </tr>\n",
       "    <tr>\n",
       "      <th>2022-09-10</th>\n",
       "      <td>19418675071</td>\n",
       "    </tr>\n",
       "    <tr>\n",
       "      <th>2022-09-09</th>\n",
       "      <td>16676188643</td>\n",
       "    </tr>\n",
       "    <tr>\n",
       "      <th>2022-09-08</th>\n",
       "      <td>18560005397</td>\n",
       "    </tr>\n",
       "    <tr>\n",
       "      <th>2022-09-07</th>\n",
       "      <td>20860201644</td>\n",
       "    </tr>\n",
       "    <tr>\n",
       "      <th>2022-09-06</th>\n",
       "      <td>11815125729</td>\n",
       "    </tr>\n",
       "    <tr>\n",
       "      <th>2022-09-05</th>\n",
       "      <td>7827505125</td>\n",
       "    </tr>\n",
       "    <tr>\n",
       "      <th>2022-09-04</th>\n",
       "      <td>8500114334</td>\n",
       "    </tr>\n",
       "    <tr>\n",
       "      <th>2022-09-03</th>\n",
       "      <td>15857654357</td>\n",
       "    </tr>\n",
       "    <tr>\n",
       "      <th>2022-09-02</th>\n",
       "      <td>15076286517</td>\n",
       "    </tr>\n",
       "  </tbody>\n",
       "</table>\n",
       "</div>"
      ],
      "text/plain": [
       "                 Volume\n",
       "Date                   \n",
       "2022-10-02   5052407841\n",
       "2022-10-01  11849125784\n",
       "2022-09-30  11834328252\n",
       "2022-09-29  16571161476\n",
       "2022-09-28  16685874856\n",
       "2022-09-27  15270197376\n",
       "2022-09-26  10552647870\n",
       "2022-09-25  11251326609\n",
       "2022-09-24  17599766731\n",
       "2022-09-23  17517188721\n",
       "2022-09-22  18732743242\n",
       "2022-09-21  13605986462\n",
       "2022-09-20  17757533838\n",
       "2022-09-19  14696599277\n",
       "2022-09-18  10309763882\n",
       "2022-09-17  17892819035\n",
       "2022-09-16  24787864367\n",
       "2022-09-15  17198033718\n",
       "2022-09-14  22286700927\n",
       "2022-09-13  16770566236\n",
       "2022-09-12  11692754175\n",
       "2022-09-11  12521808521\n",
       "2022-09-10  19418675071\n",
       "2022-09-09  16676188643\n",
       "2022-09-08  18560005397\n",
       "2022-09-07  20860201644\n",
       "2022-09-06  11815125729\n",
       "2022-09-05   7827505125\n",
       "2022-09-04   8500114334\n",
       "2022-09-03  15857654357\n",
       "2022-09-02  15076286517"
      ]
     },
     "execution_count": 17,
     "metadata": {},
     "output_type": "execute_result"
    }
   ],
   "source": [
    "df2 = pd.DataFrame({\n",
    "    columns[0] : date,\n",
    "    columns[2] : volume, \n",
    "})\n",
    "\n",
    "df2['Volume'] = df2[['Volume']].apply(delete_dollar,axis=1)\n",
    "df2.set_index('Date')"
   ]
  },
  {
   "cell_type": "markdown",
   "metadata": {},
   "source": [
    "Data visualisation (please change this markdown with your explanation of what you do for data wrangling)"
   ]
  },
  {
   "cell_type": "code",
   "execution_count": 18,
   "metadata": {
    "scrolled": true
   },
   "outputs": [],
   "source": [
    "df2['Date']=df2['Date'].astype('datetime64')"
   ]
  },
  {
   "cell_type": "code",
   "execution_count": 19,
   "metadata": {},
   "outputs": [],
   "source": [
    "df2['Volume']=df2['Volume'].astype('int64')"
   ]
  },
  {
   "cell_type": "code",
   "execution_count": 20,
   "metadata": {
    "scrolled": false
   },
   "outputs": [
    {
     "data": {
      "text/plain": [
       "Date      datetime64[ns]\n",
       "Volume             int64\n",
       "dtype: object"
      ]
     },
     "execution_count": 20,
     "metadata": {},
     "output_type": "execute_result"
    }
   ],
   "source": [
    "df2.dtypes"
   ]
  },
  {
   "cell_type": "code",
   "execution_count": 21,
   "metadata": {
    "scrolled": true
   },
   "outputs": [
    {
     "data": {
      "text/html": [
       "<div>\n",
       "<style scoped>\n",
       "    .dataframe tbody tr th:only-of-type {\n",
       "        vertical-align: middle;\n",
       "    }\n",
       "\n",
       "    .dataframe tbody tr th {\n",
       "        vertical-align: top;\n",
       "    }\n",
       "\n",
       "    .dataframe thead th {\n",
       "        text-align: right;\n",
       "    }\n",
       "</style>\n",
       "<table border=\"1\" class=\"dataframe\">\n",
       "  <thead>\n",
       "    <tr style=\"text-align: right;\">\n",
       "      <th></th>\n",
       "      <th>Date</th>\n",
       "      <th>Volume</th>\n",
       "    </tr>\n",
       "  </thead>\n",
       "  <tbody>\n",
       "    <tr>\n",
       "      <th>0</th>\n",
       "      <td>2022-10-02</td>\n",
       "      <td>5052407841</td>\n",
       "    </tr>\n",
       "    <tr>\n",
       "      <th>1</th>\n",
       "      <td>2022-10-01</td>\n",
       "      <td>11849125784</td>\n",
       "    </tr>\n",
       "    <tr>\n",
       "      <th>2</th>\n",
       "      <td>2022-09-30</td>\n",
       "      <td>11834328252</td>\n",
       "    </tr>\n",
       "    <tr>\n",
       "      <th>3</th>\n",
       "      <td>2022-09-29</td>\n",
       "      <td>16571161476</td>\n",
       "    </tr>\n",
       "    <tr>\n",
       "      <th>4</th>\n",
       "      <td>2022-09-28</td>\n",
       "      <td>16685874856</td>\n",
       "    </tr>\n",
       "    <tr>\n",
       "      <th>5</th>\n",
       "      <td>2022-09-27</td>\n",
       "      <td>15270197376</td>\n",
       "    </tr>\n",
       "    <tr>\n",
       "      <th>6</th>\n",
       "      <td>2022-09-26</td>\n",
       "      <td>10552647870</td>\n",
       "    </tr>\n",
       "    <tr>\n",
       "      <th>7</th>\n",
       "      <td>2022-09-25</td>\n",
       "      <td>11251326609</td>\n",
       "    </tr>\n",
       "    <tr>\n",
       "      <th>8</th>\n",
       "      <td>2022-09-24</td>\n",
       "      <td>17599766731</td>\n",
       "    </tr>\n",
       "    <tr>\n",
       "      <th>9</th>\n",
       "      <td>2022-09-23</td>\n",
       "      <td>17517188721</td>\n",
       "    </tr>\n",
       "    <tr>\n",
       "      <th>10</th>\n",
       "      <td>2022-09-22</td>\n",
       "      <td>18732743242</td>\n",
       "    </tr>\n",
       "    <tr>\n",
       "      <th>11</th>\n",
       "      <td>2022-09-21</td>\n",
       "      <td>13605986462</td>\n",
       "    </tr>\n",
       "    <tr>\n",
       "      <th>12</th>\n",
       "      <td>2022-09-20</td>\n",
       "      <td>17757533838</td>\n",
       "    </tr>\n",
       "    <tr>\n",
       "      <th>13</th>\n",
       "      <td>2022-09-19</td>\n",
       "      <td>14696599277</td>\n",
       "    </tr>\n",
       "    <tr>\n",
       "      <th>14</th>\n",
       "      <td>2022-09-18</td>\n",
       "      <td>10309763882</td>\n",
       "    </tr>\n",
       "    <tr>\n",
       "      <th>15</th>\n",
       "      <td>2022-09-17</td>\n",
       "      <td>17892819035</td>\n",
       "    </tr>\n",
       "    <tr>\n",
       "      <th>16</th>\n",
       "      <td>2022-09-16</td>\n",
       "      <td>24787864367</td>\n",
       "    </tr>\n",
       "    <tr>\n",
       "      <th>17</th>\n",
       "      <td>2022-09-15</td>\n",
       "      <td>17198033718</td>\n",
       "    </tr>\n",
       "    <tr>\n",
       "      <th>18</th>\n",
       "      <td>2022-09-14</td>\n",
       "      <td>22286700927</td>\n",
       "    </tr>\n",
       "    <tr>\n",
       "      <th>19</th>\n",
       "      <td>2022-09-13</td>\n",
       "      <td>16770566236</td>\n",
       "    </tr>\n",
       "    <tr>\n",
       "      <th>20</th>\n",
       "      <td>2022-09-12</td>\n",
       "      <td>11692754175</td>\n",
       "    </tr>\n",
       "    <tr>\n",
       "      <th>21</th>\n",
       "      <td>2022-09-11</td>\n",
       "      <td>12521808521</td>\n",
       "    </tr>\n",
       "    <tr>\n",
       "      <th>22</th>\n",
       "      <td>2022-09-10</td>\n",
       "      <td>19418675071</td>\n",
       "    </tr>\n",
       "    <tr>\n",
       "      <th>23</th>\n",
       "      <td>2022-09-09</td>\n",
       "      <td>16676188643</td>\n",
       "    </tr>\n",
       "    <tr>\n",
       "      <th>24</th>\n",
       "      <td>2022-09-08</td>\n",
       "      <td>18560005397</td>\n",
       "    </tr>\n",
       "    <tr>\n",
       "      <th>25</th>\n",
       "      <td>2022-09-07</td>\n",
       "      <td>20860201644</td>\n",
       "    </tr>\n",
       "    <tr>\n",
       "      <th>26</th>\n",
       "      <td>2022-09-06</td>\n",
       "      <td>11815125729</td>\n",
       "    </tr>\n",
       "    <tr>\n",
       "      <th>27</th>\n",
       "      <td>2022-09-05</td>\n",
       "      <td>7827505125</td>\n",
       "    </tr>\n",
       "    <tr>\n",
       "      <th>28</th>\n",
       "      <td>2022-09-04</td>\n",
       "      <td>8500114334</td>\n",
       "    </tr>\n",
       "    <tr>\n",
       "      <th>29</th>\n",
       "      <td>2022-09-03</td>\n",
       "      <td>15857654357</td>\n",
       "    </tr>\n",
       "  </tbody>\n",
       "</table>\n",
       "</div>"
      ],
      "text/plain": [
       "         Date       Volume\n",
       "0  2022-10-02   5052407841\n",
       "1  2022-10-01  11849125784\n",
       "2  2022-09-30  11834328252\n",
       "3  2022-09-29  16571161476\n",
       "4  2022-09-28  16685874856\n",
       "5  2022-09-27  15270197376\n",
       "6  2022-09-26  10552647870\n",
       "7  2022-09-25  11251326609\n",
       "8  2022-09-24  17599766731\n",
       "9  2022-09-23  17517188721\n",
       "10 2022-09-22  18732743242\n",
       "11 2022-09-21  13605986462\n",
       "12 2022-09-20  17757533838\n",
       "13 2022-09-19  14696599277\n",
       "14 2022-09-18  10309763882\n",
       "15 2022-09-17  17892819035\n",
       "16 2022-09-16  24787864367\n",
       "17 2022-09-15  17198033718\n",
       "18 2022-09-14  22286700927\n",
       "19 2022-09-13  16770566236\n",
       "20 2022-09-12  11692754175\n",
       "21 2022-09-11  12521808521\n",
       "22 2022-09-10  19418675071\n",
       "23 2022-09-09  16676188643\n",
       "24 2022-09-08  18560005397\n",
       "25 2022-09-07  20860201644\n",
       "26 2022-09-06  11815125729\n",
       "27 2022-09-05   7827505125\n",
       "28 2022-09-04   8500114334\n",
       "29 2022-09-03  15857654357"
      ]
     },
     "execution_count": 21,
     "metadata": {},
     "output_type": "execute_result"
    }
   ],
   "source": [
    "df2.head(30)"
   ]
  },
  {
   "cell_type": "code",
   "execution_count": 22,
   "metadata": {
    "scrolled": false
   },
   "outputs": [
    {
     "data": {
      "text/html": [
       "<div>\n",
       "<style scoped>\n",
       "    .dataframe tbody tr th:only-of-type {\n",
       "        vertical-align: middle;\n",
       "    }\n",
       "\n",
       "    .dataframe tbody tr th {\n",
       "        vertical-align: top;\n",
       "    }\n",
       "\n",
       "    .dataframe thead th {\n",
       "        text-align: right;\n",
       "    }\n",
       "</style>\n",
       "<table border=\"1\" class=\"dataframe\">\n",
       "  <thead>\n",
       "    <tr style=\"text-align: right;\">\n",
       "      <th></th>\n",
       "      <th>Date</th>\n",
       "      <th>Volume</th>\n",
       "    </tr>\n",
       "  </thead>\n",
       "  <tbody>\n",
       "    <tr>\n",
       "      <th>30</th>\n",
       "      <td>2022-09-02</td>\n",
       "      <td>15076286517</td>\n",
       "    </tr>\n",
       "    <tr>\n",
       "      <th>29</th>\n",
       "      <td>2022-09-03</td>\n",
       "      <td>15857654357</td>\n",
       "    </tr>\n",
       "    <tr>\n",
       "      <th>28</th>\n",
       "      <td>2022-09-04</td>\n",
       "      <td>8500114334</td>\n",
       "    </tr>\n",
       "    <tr>\n",
       "      <th>27</th>\n",
       "      <td>2022-09-05</td>\n",
       "      <td>7827505125</td>\n",
       "    </tr>\n",
       "    <tr>\n",
       "      <th>26</th>\n",
       "      <td>2022-09-06</td>\n",
       "      <td>11815125729</td>\n",
       "    </tr>\n",
       "    <tr>\n",
       "      <th>25</th>\n",
       "      <td>2022-09-07</td>\n",
       "      <td>20860201644</td>\n",
       "    </tr>\n",
       "    <tr>\n",
       "      <th>24</th>\n",
       "      <td>2022-09-08</td>\n",
       "      <td>18560005397</td>\n",
       "    </tr>\n",
       "    <tr>\n",
       "      <th>23</th>\n",
       "      <td>2022-09-09</td>\n",
       "      <td>16676188643</td>\n",
       "    </tr>\n",
       "    <tr>\n",
       "      <th>22</th>\n",
       "      <td>2022-09-10</td>\n",
       "      <td>19418675071</td>\n",
       "    </tr>\n",
       "    <tr>\n",
       "      <th>21</th>\n",
       "      <td>2022-09-11</td>\n",
       "      <td>12521808521</td>\n",
       "    </tr>\n",
       "    <tr>\n",
       "      <th>20</th>\n",
       "      <td>2022-09-12</td>\n",
       "      <td>11692754175</td>\n",
       "    </tr>\n",
       "    <tr>\n",
       "      <th>19</th>\n",
       "      <td>2022-09-13</td>\n",
       "      <td>16770566236</td>\n",
       "    </tr>\n",
       "    <tr>\n",
       "      <th>18</th>\n",
       "      <td>2022-09-14</td>\n",
       "      <td>22286700927</td>\n",
       "    </tr>\n",
       "    <tr>\n",
       "      <th>17</th>\n",
       "      <td>2022-09-15</td>\n",
       "      <td>17198033718</td>\n",
       "    </tr>\n",
       "    <tr>\n",
       "      <th>16</th>\n",
       "      <td>2022-09-16</td>\n",
       "      <td>24787864367</td>\n",
       "    </tr>\n",
       "    <tr>\n",
       "      <th>15</th>\n",
       "      <td>2022-09-17</td>\n",
       "      <td>17892819035</td>\n",
       "    </tr>\n",
       "    <tr>\n",
       "      <th>14</th>\n",
       "      <td>2022-09-18</td>\n",
       "      <td>10309763882</td>\n",
       "    </tr>\n",
       "    <tr>\n",
       "      <th>13</th>\n",
       "      <td>2022-09-19</td>\n",
       "      <td>14696599277</td>\n",
       "    </tr>\n",
       "    <tr>\n",
       "      <th>12</th>\n",
       "      <td>2022-09-20</td>\n",
       "      <td>17757533838</td>\n",
       "    </tr>\n",
       "    <tr>\n",
       "      <th>11</th>\n",
       "      <td>2022-09-21</td>\n",
       "      <td>13605986462</td>\n",
       "    </tr>\n",
       "    <tr>\n",
       "      <th>10</th>\n",
       "      <td>2022-09-22</td>\n",
       "      <td>18732743242</td>\n",
       "    </tr>\n",
       "    <tr>\n",
       "      <th>9</th>\n",
       "      <td>2022-09-23</td>\n",
       "      <td>17517188721</td>\n",
       "    </tr>\n",
       "    <tr>\n",
       "      <th>8</th>\n",
       "      <td>2022-09-24</td>\n",
       "      <td>17599766731</td>\n",
       "    </tr>\n",
       "    <tr>\n",
       "      <th>7</th>\n",
       "      <td>2022-09-25</td>\n",
       "      <td>11251326609</td>\n",
       "    </tr>\n",
       "    <tr>\n",
       "      <th>6</th>\n",
       "      <td>2022-09-26</td>\n",
       "      <td>10552647870</td>\n",
       "    </tr>\n",
       "    <tr>\n",
       "      <th>5</th>\n",
       "      <td>2022-09-27</td>\n",
       "      <td>15270197376</td>\n",
       "    </tr>\n",
       "    <tr>\n",
       "      <th>4</th>\n",
       "      <td>2022-09-28</td>\n",
       "      <td>16685874856</td>\n",
       "    </tr>\n",
       "    <tr>\n",
       "      <th>3</th>\n",
       "      <td>2022-09-29</td>\n",
       "      <td>16571161476</td>\n",
       "    </tr>\n",
       "    <tr>\n",
       "      <th>2</th>\n",
       "      <td>2022-09-30</td>\n",
       "      <td>11834328252</td>\n",
       "    </tr>\n",
       "    <tr>\n",
       "      <th>1</th>\n",
       "      <td>2022-10-01</td>\n",
       "      <td>11849125784</td>\n",
       "    </tr>\n",
       "    <tr>\n",
       "      <th>0</th>\n",
       "      <td>2022-10-02</td>\n",
       "      <td>5052407841</td>\n",
       "    </tr>\n",
       "  </tbody>\n",
       "</table>\n",
       "</div>"
      ],
      "text/plain": [
       "         Date       Volume\n",
       "30 2022-09-02  15076286517\n",
       "29 2022-09-03  15857654357\n",
       "28 2022-09-04   8500114334\n",
       "27 2022-09-05   7827505125\n",
       "26 2022-09-06  11815125729\n",
       "25 2022-09-07  20860201644\n",
       "24 2022-09-08  18560005397\n",
       "23 2022-09-09  16676188643\n",
       "22 2022-09-10  19418675071\n",
       "21 2022-09-11  12521808521\n",
       "20 2022-09-12  11692754175\n",
       "19 2022-09-13  16770566236\n",
       "18 2022-09-14  22286700927\n",
       "17 2022-09-15  17198033718\n",
       "16 2022-09-16  24787864367\n",
       "15 2022-09-17  17892819035\n",
       "14 2022-09-18  10309763882\n",
       "13 2022-09-19  14696599277\n",
       "12 2022-09-20  17757533838\n",
       "11 2022-09-21  13605986462\n",
       "10 2022-09-22  18732743242\n",
       "9  2022-09-23  17517188721\n",
       "8  2022-09-24  17599766731\n",
       "7  2022-09-25  11251326609\n",
       "6  2022-09-26  10552647870\n",
       "5  2022-09-27  15270197376\n",
       "4  2022-09-28  16685874856\n",
       "3  2022-09-29  16571161476\n",
       "2  2022-09-30  11834328252\n",
       "1  2022-10-01  11849125784\n",
       "0  2022-10-02   5052407841"
      ]
     },
     "execution_count": 22,
     "metadata": {},
     "output_type": "execute_result"
    }
   ],
   "source": [
    "df2 = df2[::-1]\n",
    "df2"
   ]
  },
  {
   "cell_type": "code",
   "execution_count": 23,
   "metadata": {},
   "outputs": [],
   "source": [
    "df2 = df2.set_index('Date')"
   ]
  },
  {
   "cell_type": "code",
   "execution_count": 24,
   "metadata": {},
   "outputs": [
    {
     "name": "stderr",
     "output_type": "stream",
     "text": [
      "C:\\Users\\GUESS WHO\\AppData\\Local\\Temp\\ipykernel_20268\\2026618638.py:3: MatplotlibDeprecationWarning: The seaborn styles shipped by Matplotlib are deprecated since 3.6, as they no longer correspond to the styles shipped by seaborn. However, they will remain available as 'seaborn-v0_8-<style>'. Alternatively, directly use the seaborn API instead.\n",
      "  plt.style.use('seaborn')\n"
     ]
    }
   ],
   "source": [
    "import matplotlib.pyplot as plt\n",
    "import matplotlib.ticker\n",
    "plt.style.use('seaborn')\n"
   ]
  },
  {
   "cell_type": "code",
   "execution_count": 25,
   "metadata": {},
   "outputs": [
    {
     "data": {
      "text/plain": [
       "<AxesSubplot: title={'center': '        Daily ETH Volume Traded 2 September 2022 - 2 October 2022'}, xlabel='Day', ylabel='Daily ETH Volume'>"
      ]
     },
     "execution_count": 25,
     "metadata": {},
     "output_type": "execute_result"
    },
    {
     "data": {
      "image/png": "[encoded data removed]",
      "text/plain": [
       "<Figure size 432x288 with 1 Axes>"
      ]
     },
     "metadata": {
      "needs_background": "light"
     },
     "output_type": "display_data"
    }
   ],
   "source": [
    "df2.plot(kind='line',\n",
    "        ylabel='Daily ETH Volume',\n",
    "        xlabel='Day',\n",
    "        title='\\\n",
    "        Daily ETH Volume Traded 2 September 2022 - 2 October 2022',\n",
    "        grid=False,\n",
    "        rot=0)"
   ]
  },
  {
   "cell_type": "markdown",
   "metadata": {},
   "source": [
    "### Implementing your webscrapping to the flask dashboard\n",
    "\n",
    "- Copy paste all of your web scrapping process to the desired position on the `app.py`\n",
    "- Changing the title of the dasboard at `index.html`"
   ]
  },
  {
   "cell_type": "markdown",
   "metadata": {},
   "source": [
    "## Finishing This Notebook with Your Analysis and Conclusion\n",
    "\n",
    "First you can do start with making the data visualisation. "
   ]
  },
  {
   "cell_type": "markdown",
   "metadata": {
    "ExecuteTime": {
     "end_time": "2020-01-13T05:20:56.208237Z",
     "start_time": "2020-01-13T05:20:56.076043Z"
    }
   },
   "source": [
    "Based on the graph, we can see that Daily ETH Volume traded from 2 September 2022 - 2 October 2022 is ranging between 5 billion to 24,8 billion USD."
   ]
  },
  {
   "cell_type": "markdown",
   "metadata": {},
   "source": [
    "\n",
    "(Put your analysis and conclusion here.)"
   ]
  },
  {
   "cell_type": "markdown",
   "metadata": {},
   "source": [
    "### Extra Challange\n",
    "\n",
    "This will be not included to the scoring. \n",
    "\n",
    "- You can create additional analysis from the data.\n",
    "- Implement it to the dashboard with at `app.py` dan `index.html`."
   ]
  }
 ],
 "metadata": {
  "kernelspec": {
   "display_name": "theia_da",
   "language": "python",
   "name": "theia_da"
  },
  "language_info": {
   "codemirror_mode": {
    "name": "ipython",
    "version": 3
   },
   "file_extension": ".py",
   "mimetype": "text/x-python",
   "name": "python",
   "nbconvert_exporter": "python",
   "pygments_lexer": "ipython3",
   "version": "3.9.13"
  }
 },
 "nbformat": 4,
 "nbformat_minor": 2
}
